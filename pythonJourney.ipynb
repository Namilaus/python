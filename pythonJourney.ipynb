{
  "nbformat": 4,
  "nbformat_minor": 0,
  "metadata": {
    "colab": {
      "provenance": [],
      "authorship_tag": "ABX9TyPW+G2PYgiVP1NV8invkC+x",
      "include_colab_link": true
    },
    "kernelspec": {
      "name": "python3",
      "display_name": "Python 3"
    },
    "language_info": {
      "name": "python"
    }
  },
  "cells": [
    {
      "cell_type": "markdown",
      "metadata": {
        "id": "view-in-github",
        "colab_type": "text"
      },
      "source": [
        "<a href=\"https://colab.research.google.com/github/Namilaus/python/blob/main/pythonJourney.ipynb\" target=\"_parent\"><img src=\"https://colab.research.google.com/assets/colab-badge.svg\" alt=\"Open In Colab\"/></a>"
      ]
    },
    {
      "cell_type": "code",
      "execution_count": null,
      "metadata": {
        "colab": {
          "base_uri": "https://localhost:8080/",
          "height": 130
        },
        "id": "ugnr-mecs0l6",
        "outputId": "efb71c9e-d9b9-44c1-db56-abaa3801f40d"
      },
      "outputs": [
        {
          "output_type": "error",
          "ename": "SyntaxError",
          "evalue": "ignored",
          "traceback": [
            "\u001b[0;36m  File \u001b[0;32m\"<ipython-input-68-e5dd84fd3cc8>\"\u001b[0;36m, line \u001b[0;32m4\u001b[0m\n\u001b[0;31m    while(True){\u001b[0m\n\u001b[0m               ^\u001b[0m\n\u001b[0;31mSyntaxError\u001b[0m\u001b[0;31m:\u001b[0m invalid syntax\n"
          ]
        }
      ],
      "source": [
        "import requests as req\n",
        "from bs4 import BeautifulSoup as btf\n",
        "\n",
        "while(True)\n",
        "def scrap(url):\n",
        "  page = req.get(url)\n",
        "\n",
        "  parser = btf(page.content)\n",
        "\n",
        "  div = parser.find('div',class_=\"BNeawe iBp4i AP7Wnd\")\n",
        "  element = slice(0,4)\n",
        "  convertedElement=float(div.text[element])\n",
        "\n",
        "  if convertedElement < 1:\n",
        "    print(\"dolar is under 1 euro\")\n",
        "  else:\n",
        "    print(\"dolar is over euro\")\n",
        "  \n",
        "\n",
        "\n",
        "\n",
        "scrap(\"https://www.google.com/search?q=usd+to+euro\")\n",
        "\n"
      ]
    }
  ]
}